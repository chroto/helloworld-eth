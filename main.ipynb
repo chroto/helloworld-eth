{
 "cells": [
  {
   "cell_type": "code",
   "execution_count": 1,
   "id": "f239a21b-65b7-41d9-a9fc-1fe41641e9d4",
   "metadata": {
    "kernel": "Python3"
   },
   "outputs": [
    {
     "data": {
      "text/plain": [
       "True"
      ]
     },
     "execution_count": 1,
     "metadata": {},
     "output_type": "execute_result"
    }
   ],
   "source": [
    "from web3 import Web3\n",
    "\n",
    "w3 = Web3(Web3.HTTPProvider('http://127.0.0.1:28545'))\n",
    "w3.isConnected()"
   ]
  },
  {
   "cell_type": "code",
   "execution_count": 2,
   "id": "85914fe3-bc76-4669-b4e5-41e6e972602e",
   "metadata": {
    "kernel": "Python3"
   },
   "outputs": [
    {
     "data": {
      "text/plain": [
       "'0x1fDe42226775D02e9A02d5Ef1849ecb25451F1f6'"
      ]
     },
     "execution_count": 2,
     "metadata": {},
     "output_type": "execute_result"
    }
   ],
   "source": [
    "w3.eth.accounts[3]"
   ]
  },
  {
   "cell_type": "code",
   "execution_count": 4,
   "id": "72fec308-376f-442d-b139-9d9564b45797",
   "metadata": {
    "kernel": "Python3"
   },
   "outputs": [],
   "source": [
    "block = w3.eth.getBlock(\"latest\")"
   ]
  },
  {
   "cell_type": "code",
   "execution_count": 5,
   "id": "cbe41d57-f656-4659-bd3f-58c9c3fc6c45",
   "metadata": {
    "kernel": "Python3"
   },
   "outputs": [
    {
     "data": {
      "text/plain": [
       "0"
      ]
     },
     "execution_count": 5,
     "metadata": {},
     "output_type": "execute_result"
    }
   ],
   "source": [
    "block.number"
   ]
  },
  {
   "cell_type": "code",
   "execution_count": 7,
   "id": "e86ffaa2-514d-4a99-ba74-a1d7ff4d235c",
   "metadata": {
    "kernel": "Python3"
   },
   "outputs": [
    {
     "data": {
      "text/plain": [
       "HexBytes('0x5fc24ec1f7d9e90a03eb1abb87da1a37409f412a32c9751b9fd90039e2cd4afe')"
      ]
     },
     "execution_count": 7,
     "metadata": {},
     "output_type": "execute_result"
    }
   ],
   "source": [
    "block.hash"
   ]
  },
  {
   "cell_type": "code",
   "execution_count": 15,
   "id": "bceec328-0037-485b-bf1a-9d8009d03b54",
   "metadata": {
    "kernel": "Python3"
   },
   "outputs": [],
   "source": [
    "def sign_transaction(txn):\n",
    "    next_nounce = w3.eth.getTransactionCount(str(w3.eth.accounts[0]))\n",
    "    signable_transaction = dict(\n",
    "    txn,\n",
    "    nonce=next_nounce,\n",
    "    gasPrice=w3.toWei(4, 'gwei'),\n",
    "    )\n",
    "    private_key = '0xc46dd8fa5aa4ea1eb54947d0555429e59a5bb576f82559cbd8687536b32be836'\n",
    "    signature_info = w3.eth.account.signTransaction(signable_transaction, private_key)\n",
    "    txn_hash = w3.eth.sendRawTransaction(signature_info.rawTransaction)\n",
    "    receipt = w3.eth.waitForTransactionReceipt(txn_hash)\n",
    "    return receipt\n"
   ]
  },
  {
   "cell_type": "code",
   "execution_count": 16,
   "id": "ebad8e93-31cd-4035-8aaa-70ed2a52bbab",
   "metadata": {
    "kernel": "Python3"
   },
   "outputs": [
    {
     "data": {
      "text/plain": [
       "AttributeDict({'transactionHash': HexBytes('0x20aaea447166ea78494ffa82a66b935d76c04869687d5e3a72711bc627c34fd3'),\n",
       " 'transactionIndex': 0,\n",
       " 'blockHash': HexBytes('0x6be228b44bd152e4ff13b1fa14c4d9639f3a365a77d9422eaef918e1c45e57b6'),\n",
       " 'blockNumber': 1,\n",
       " 'from': '0x316Be0E99b930bAB5839B89Bcdab256b45c66a18',\n",
       " 'to': '0x9e363fb854dF84461970E9a500d99D22eE71A325',\n",
       " 'gasUsed': 21000,\n",
       " 'cumulativeGasUsed': 21000,\n",
       " 'contractAddress': None,\n",
       " 'logs': [],\n",
       " 'status': 1,\n",
       " 'logsBloom': HexBytes('0x00000000000000000000000000000000000000000000000000000000000000000000000000000000000000000000000000000000000000000000000000000000000000000000000000000000000000000000000000000000000000000000000000000000000000000000000000000000000000000000000000000000000000000000000000000000000000000000000000000000000000000000000000000000000000000000000000000000000000000000000000000000000000000000000000000000000000000000000000000000000000000000000000000000000000000000000000000000000000000000000000000000000000000000000000000000')})"
      ]
     },
     "execution_count": 16,
     "metadata": {},
     "output_type": "execute_result"
    }
   ],
   "source": [
    "from_address = w3.eth.accounts[0]\n",
    "to_address = w3.eth.accounts[1]\n",
    "value = w3.toWei(1, \"ether\")\n",
    "\n",
    "transaction = {\n",
    "        'from': from_address,\n",
    "        'to': to_address,\n",
    "        'value': value,\n",
    "        'gas': 1000000,\n",
    "        'gasPrice': w3.toWei('150','gwei'),\n",
    "        'chainId': 1337\n",
    "    }\n",
    "sign_transaction(transaction)"
   ]
  },
  {
   "cell_type": "code",
   "execution_count": 18,
   "id": "a5c4144e-4e53-4b61-b38b-6912ba9b975d",
   "metadata": {
    "kernel": "Python3"
   },
   "outputs": [
    {
     "name": "stdout",
     "output_type": "stream",
     "text": [
      "current balance: 98.999916 ether\n"
     ]
    }
   ],
   "source": [
    "print(f\"current balance: {w3.fromWei(w3.eth.getBalance(from_address), 'ether')} ether\")\n"
   ]
  },
  {
   "cell_type": "code",
   "execution_count": 19,
   "id": "e6899a11-63fb-4426-9ac0-77767f4f3dea",
   "metadata": {
    "kernel": "Python3"
   },
   "outputs": [
    {
     "name": "stdout",
     "output_type": "stream",
     "text": [
      "current balance: 101 ether\n"
     ]
    }
   ],
   "source": [
    "print(f\"current balance: {w3.fromWei(w3.eth.getBalance(to_address), 'ether')} ether\")\n"
   ]
  },
  {
   "cell_type": "code",
   "execution_count": null,
   "id": "8e14c5a1-0b30-4925-961a-2ea75aa9149a",
   "metadata": {
    "kernel": "Python3"
   },
   "outputs": [],
   "source": []
  }
 ],
 "metadata": {
  "kernelspec": {
   "display_name": "Python 3",
   "language": "python",
   "name": "python3"
  },
  "language_info": {
   "codemirror_mode": {
    "name": "ipython",
    "version": 3
   },
   "file_extension": ".py",
   "mimetype": "text/x-python",
   "name": "python",
   "nbconvert_exporter": "python",
   "pygments_lexer": "ipython3",
   "version": "3.7.10"
  },
  "sos": {
   "kernels": [
    [
     "Bash",
     "calysto_bash",
     "Bash",
     "#E6EEFF",
     ""
    ],
    [
     "Python3",
     "python3",
     "Python3",
     "#FFD91A",
     ""
    ]
   ],
   "version": "0.22.3"
  }
 },
 "nbformat": 4,
 "nbformat_minor": 5
}
