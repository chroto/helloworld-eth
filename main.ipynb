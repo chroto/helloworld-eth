{
 "cells": [
  {
   "cell_type": "code",
   "execution_count": 1,
   "id": "f239a21b-65b7-41d9-a9fc-1fe41641e9d4",
   "metadata": {
    "kernel": "Python3"
   },
   "outputs": [
    {
     "data": {
      "text/plain": [
       "True"
      ]
     },
     "execution_count": 1,
     "metadata": {},
     "output_type": "execute_result"
    }
   ],
   "source": [
    "from web3 import Web3\n",
    "\n",
    "w3 = Web3(Web3.HTTPProvider('http://127.0.0.1:28545'))\n",
    "w3.isConnected()"
   ]
  },
  {
   "cell_type": "code",
   "execution_count": 2,
   "id": "85914fe3-bc76-4669-b4e5-41e6e972602e",
   "metadata": {
    "kernel": "Python3"
   },
   "outputs": [
    {
     "data": {
      "text/plain": [
       "'0x1fDe42226775D02e9A02d5Ef1849ecb25451F1f6'"
      ]
     },
     "execution_count": 2,
     "metadata": {},
     "output_type": "execute_result"
    }
   ],
   "source": [
    "w3.eth.accounts[3]"
   ]
  },
  {
   "cell_type": "code",
   "execution_count": 4,
   "id": "72fec308-376f-442d-b139-9d9564b45797",
   "metadata": {
    "kernel": "Python3"
   },
   "outputs": [],
   "source": [
    "block = w3.eth.getBlock(\"latest\")"
   ]
  },
  {
   "cell_type": "code",
   "execution_count": 5,
   "id": "cbe41d57-f656-4659-bd3f-58c9c3fc6c45",
   "metadata": {
    "kernel": "Python3"
   },
   "outputs": [
    {
     "data": {
      "text/plain": [
       "0"
      ]
     },
     "execution_count": 5,
     "metadata": {},
     "output_type": "execute_result"
    }
   ],
   "source": [
    "block.number"
   ]
  },
  {
   "cell_type": "code",
   "execution_count": 7,
   "id": "e86ffaa2-514d-4a99-ba74-a1d7ff4d235c",
   "metadata": {
    "kernel": "Python3"
   },
   "outputs": [
    {
     "data": {
      "text/plain": [
       "HexBytes('0x5fc24ec1f7d9e90a03eb1abb87da1a37409f412a32c9751b9fd90039e2cd4afe')"
      ]
     },
     "execution_count": 7,
     "metadata": {},
     "output_type": "execute_result"
    }
   ],
   "source": [
    "block.hash"
   ]
  },
  {
   "cell_type": "code",
   "execution_count": null,
   "id": "bceec328-0037-485b-bf1a-9d8009d03b54",
   "metadata": {
    "kernel": "Python3"
   },
   "outputs": [],
   "source": []
  }
 ],
 "metadata": {
  "kernelspec": {
   "display_name": "Python 3",
   "language": "python",
   "name": "python3"
  },
  "language_info": {
   "codemirror_mode": {
    "name": "ipython",
    "version": 3
   },
   "file_extension": ".py",
   "mimetype": "text/x-python",
   "name": "python",
   "nbconvert_exporter": "python",
   "pygments_lexer": "ipython3",
   "version": "3.7.10"
  },
  "sos": {
   "kernels": [
    [
     "Bash",
     "calysto_bash",
     "Bash",
     "#E6EEFF",
     ""
    ],
    [
     "Python3",
     "python3",
     "Python3",
     "#FFD91A",
     ""
    ]
   ],
   "version": "0.22.3"
  }
 },
 "nbformat": 4,
 "nbformat_minor": 5
}
