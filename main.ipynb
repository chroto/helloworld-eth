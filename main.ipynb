{
 "cells": [
  {
   "cell_type": "code",
   "execution_count": 43,
   "id": "f239a21b-65b7-41d9-a9fc-1fe41641e9d4",
   "metadata": {
    "kernel": "Python3"
   },
   "outputs": [
    {
     "data": {
      "text/plain": [
       "True"
      ]
     },
     "execution_count": 43,
     "metadata": {},
     "output_type": "execute_result"
    }
   ],
   "source": [
    "from web3 import Web3\n",
    "\n",
    "w3 = Web3(Web3.HTTPProvider('http://127.0.0.1:28545'))\n",
    "w3.isConnected()"
   ]
  },
  {
   "cell_type": "code",
   "execution_count": 44,
   "id": "8325c8c8-dcfd-4f08-8b9e-468649034593",
   "metadata": {},
   "outputs": [],
   "source": [
    "import json\n",
    "with open('keys.json', 'r') as f:\n",
    "    keys = json.loads(f.read())"
   ]
  },
  {
   "cell_type": "code",
   "execution_count": 45,
   "id": "85914fe3-bc76-4669-b4e5-41e6e972602e",
   "metadata": {
    "kernel": "Python3"
   },
   "outputs": [
    {
     "name": "stdout",
     "output_type": "stream",
     "text": [
      "0x1a8476A35a57a4482781493e7A485ed40d07CB40: 100000000000000000000\n",
      "0x9b6dF0bF6d4a02F77f8A861bd2Be995d6724DA45: 100000000000000000000\n",
      "0xf898b750D22e2273A6852F46657359be034E7b9d: 100000000000000000000\n",
      "0x58F183e1772CCDFad02147b5293c09e2ff602e24: 100000000000000000000\n",
      "0xB76BED6d4d6FB231bc5159Ca66a8818F319ccf69: 100000000000000000000\n",
      "0x0A553f514AD68982e4Aaf7aC536DF68C649B4d49: 100000000000000000000\n",
      "0x42e774fC76132B79D0D3A4fbE53c149b7E2fc31c: 100000000000000000000\n",
      "0xf61cAce90b0fbEefda0C81b22bF18A5ece73Aca4: 100000000000000000000\n",
      "0xa79F9Ae080B8a72b8611812aed8B4739d2B42f17: 100000000000000000000\n",
      "0xb4A203fbC8eeb295956d715024f68937525c024f: 100000000000000000000\n"
     ]
    }
   ],
   "source": [
    "for account in w3.eth.accounts:\n",
    "    balance = w3.eth.get_balance(account)\n",
    "    print(f'{account}: {balance}')"
   ]
  },
  {
   "cell_type": "code",
   "execution_count": 46,
   "id": "72fec308-376f-442d-b139-9d9564b45797",
   "metadata": {
    "kernel": "Python3"
   },
   "outputs": [],
   "source": [
    "block = w3.eth.getBlock(\"latest\")"
   ]
  },
  {
   "cell_type": "code",
   "execution_count": 47,
   "id": "cbe41d57-f656-4659-bd3f-58c9c3fc6c45",
   "metadata": {
    "kernel": "Python3"
   },
   "outputs": [
    {
     "data": {
      "text/plain": [
       "0"
      ]
     },
     "execution_count": 47,
     "metadata": {},
     "output_type": "execute_result"
    }
   ],
   "source": [
    "block.number"
   ]
  },
  {
   "cell_type": "code",
   "execution_count": 48,
   "id": "e86ffaa2-514d-4a99-ba74-a1d7ff4d235c",
   "metadata": {
    "kernel": "Python3"
   },
   "outputs": [
    {
     "data": {
      "text/plain": [
       "HexBytes('0x75a8f9eb11be85141179ea9eef44497f2d2909af46503cdf1dc070b1ed53cb82')"
      ]
     },
     "execution_count": 48,
     "metadata": {},
     "output_type": "execute_result"
    }
   ],
   "source": [
    "block.hash"
   ]
  },
  {
   "cell_type": "code",
   "execution_count": 49,
   "id": "bceec328-0037-485b-bf1a-9d8009d03b54",
   "metadata": {
    "kernel": "Python3"
   },
   "outputs": [],
   "source": [
    "def sign_transaction(txn, account):\n",
    "    next_nounce = w3.eth.getTransactionCount(account)\n",
    "    signable_transaction = dict(\n",
    "    txn,\n",
    "    nonce=next_nounce,\n",
    "    gasPrice=w3.toWei(4, 'gwei'),\n",
    "    )\n",
    "    private_key = keys['private_keys'][account.lower()]\n",
    "    signature_info = w3.eth.account.signTransaction(signable_transaction, private_key)\n",
    "    txn_hash = w3.eth.sendRawTransaction(signature_info.rawTransaction)\n",
    "    receipt = w3.eth.waitForTransactionReceipt(txn_hash)\n",
    "    return receipt\n"
   ]
  },
  {
   "cell_type": "code",
   "execution_count": 56,
   "id": "ebad8e93-31cd-4035-8aaa-70ed2a52bbab",
   "metadata": {
    "kernel": "Python3"
   },
   "outputs": [
    {
     "data": {
      "text/plain": [
       "AttributeDict({'transactionHash': HexBytes('0xd2363da8da34fd711c02c3298fd44a17f9ac959636916d4b96753313f3ec476a'),\n",
       " 'transactionIndex': 0,\n",
       " 'blockHash': HexBytes('0xbf3eee1f97a955682eea03f48098d2df8d05845a6670413c4b5390b853c615b0'),\n",
       " 'blockNumber': 3,\n",
       " 'from': '0x1a8476A35a57a4482781493e7A485ed40d07CB40',\n",
       " 'to': '0x9b6dF0bF6d4a02F77f8A861bd2Be995d6724DA45',\n",
       " 'gasUsed': 21000,\n",
       " 'cumulativeGasUsed': 21000,\n",
       " 'contractAddress': None,\n",
       " 'logs': [],\n",
       " 'status': 1,\n",
       " 'logsBloom': HexBytes('0x00000000000000000000000000000000000000000000000000000000000000000000000000000000000000000000000000000000000000000000000000000000000000000000000000000000000000000000000000000000000000000000000000000000000000000000000000000000000000000000000000000000000000000000000000000000000000000000000000000000000000000000000000000000000000000000000000000000000000000000000000000000000000000000000000000000000000000000000000000000000000000000000000000000000000000000000000000000000000000000000000000000000000000000000000000000')})"
      ]
     },
     "execution_count": 56,
     "metadata": {},
     "output_type": "execute_result"
    }
   ],
   "source": [
    "from_address = w3.eth.accounts[0]\n",
    "to_address = w3.eth.accounts[1]\n",
    "value = w3.toWei(1, \"ether\")\n",
    "\n",
    "transaction = {\n",
    "        'from': from_address,\n",
    "        'to': to_address,\n",
    "        'value': value,\n",
    "        'gas': 1000000,\n",
    "        'gasPrice': w3.toWei('150','gwei'),\n",
    "        'chainId': 1337\n",
    "    }\n",
    "sign_transaction(transaction, from_address)"
   ]
  },
  {
   "cell_type": "code",
   "execution_count": 57,
   "id": "a5c4144e-4e53-4b61-b38b-6912ba9b975d",
   "metadata": {
    "kernel": "Python3"
   },
   "outputs": [
    {
     "name": "stdout",
     "output_type": "stream",
     "text": [
      "current balance: 96.999748 ether\n"
     ]
    }
   ],
   "source": [
    "print(f\"current balance: {w3.fromWei(w3.eth.getBalance(from_address), 'ether')} ether\")\n"
   ]
  },
  {
   "cell_type": "code",
   "execution_count": 58,
   "id": "e6899a11-63fb-4426-9ac0-77767f4f3dea",
   "metadata": {
    "kernel": "Python3"
   },
   "outputs": [
    {
     "name": "stdout",
     "output_type": "stream",
     "text": [
      "current balance: 103 ether\n"
     ]
    }
   ],
   "source": [
    "print(f\"current balance: {w3.fromWei(w3.eth.getBalance(to_address), 'ether')} ether\")\n"
   ]
  },
  {
   "cell_type": "code",
   "execution_count": null,
   "id": "8e14c5a1-0b30-4925-961a-2ea75aa9149a",
   "metadata": {
    "kernel": "Python3"
   },
   "outputs": [],
   "source": []
  }
 ],
 "metadata": {
  "kernelspec": {
   "display_name": "Python 3",
   "language": "python",
   "name": "python3"
  },
  "language_info": {
   "codemirror_mode": {
    "name": "ipython",
    "version": 3
   },
   "file_extension": ".py",
   "mimetype": "text/x-python",
   "name": "python",
   "nbconvert_exporter": "python",
   "pygments_lexer": "ipython3",
   "version": "3.7.10"
  },
  "sos": {
   "kernels": [
    [
     "Bash",
     "calysto_bash",
     "Bash",
     "#E6EEFF",
     ""
    ],
    [
     "Python3",
     "python3",
     "Python3",
     "#FFD91A",
     ""
    ]
   ],
   "version": "0.22.3"
  }
 },
 "nbformat": 4,
 "nbformat_minor": 5
}
