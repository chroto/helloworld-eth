{
 "cells": [
  {
   "cell_type": "code",
   "execution_count": null,
   "id": "f239a21b-65b7-41d9-a9fc-1fe41641e9d4",
   "metadata": {
    "kernel": "Python3"
   },
   "outputs": [],
   "source": [
    "from web3 import Web3\n",
    "\n",
    "w3 = Web3(Web3.HTTPProvider('http://127.0.0.1:28545'))\n",
    "w3.isConnected()"
   ]
  },
  {
   "cell_type": "code",
   "execution_count": null,
   "id": "8325c8c8-dcfd-4f08-8b9e-468649034593",
   "metadata": {},
   "outputs": [],
   "source": [
    "import json\n",
    "with open('keys.json', 'r') as f:\n",
    "    keys = json.loads(f.read())"
   ]
  },
  {
   "cell_type": "code",
   "execution_count": null,
   "id": "85914fe3-bc76-4669-b4e5-41e6e972602e",
   "metadata": {
    "kernel": "Python3"
   },
   "outputs": [],
   "source": [
    "for account in w3.eth.accounts:\n",
    "    balance = w3.eth.get_balance(account)\n",
    "    print(f'{account}: {balance}')"
   ]
  },
  {
   "cell_type": "code",
   "execution_count": null,
   "id": "bceec328-0037-485b-bf1a-9d8009d03b54",
   "metadata": {
    "kernel": "Python3"
   },
   "outputs": [],
   "source": [
    "def sign_transaction(txn, account):\n",
    "    next_nounce = w3.eth.getTransactionCount(account)\n",
    "    \n",
    "    signable_transaction = dict(\n",
    "    txn,\n",
    "    nonce=next_nounce,\n",
    "    gasPrice=w3.toWei(4, 'gwei'))\n",
    "    \n",
    "    private_key = keys['private_keys'][account.lower()]\n",
    "    signature_info = w3.eth.account.signTransaction(signable_transaction, private_key)\n",
    "    txn_hash = w3.eth.sendRawTransaction(signature_info.rawTransaction)\n",
    "    receipt = w3.eth.waitForTransactionReceipt(txn_hash)\n",
    "    return receipt\n"
   ]
  },
  {
   "cell_type": "code",
   "execution_count": null,
   "id": "ebad8e93-31cd-4035-8aaa-70ed2a52bbab",
   "metadata": {
    "kernel": "Python3"
   },
   "outputs": [],
   "source": [
    "from_address = w3.eth.accounts[0]\n",
    "to_address = w3.eth.accounts[1]\n",
    "value = w3.toWei(1, \"ether\")\n",
    "\n",
    "transaction = {\n",
    "        'from': from_address,\n",
    "        'to': to_address,\n",
    "        'value': value,\n",
    "        'gas': 1000000,\n",
    "        'gasPrice': w3.toWei('150','gwei'),\n",
    "        'chainId': 1337\n",
    "    }\n",
    "sign_transaction(transaction, from_address)\n",
    "w3.eth.getBlock(\"latest\")\n"
   ]
  },
  {
   "cell_type": "code",
   "execution_count": null,
   "id": "a5c4144e-4e53-4b61-b38b-6912ba9b975d",
   "metadata": {
    "kernel": "Python3"
   },
   "outputs": [],
   "source": [
    "print(f\"current balance: {w3.fromWei(w3.eth.getBalance(from_address), 'ether')} ether\")\n"
   ]
  },
  {
   "cell_type": "code",
   "execution_count": null,
   "id": "e6899a11-63fb-4426-9ac0-77767f4f3dea",
   "metadata": {
    "kernel": "Python3"
   },
   "outputs": [],
   "source": [
    "print(f\"current balance: {w3.fromWei(w3.eth.getBalance(to_address), 'ether')} ether\")\n"
   ]
  },
  {
   "cell_type": "code",
   "execution_count": null,
   "id": "c63df604-5027-4e7c-9038-b9e04a8d6905",
   "metadata": {},
   "outputs": [],
   "source": []
  }
 ],
 "metadata": {
  "kernelspec": {
   "display_name": "Python 3",
   "language": "python",
   "name": "python3"
  },
  "language_info": {
   "codemirror_mode": {
    "name": "ipython",
    "version": 3
   },
   "file_extension": ".py",
   "mimetype": "text/x-python",
   "name": "python",
   "nbconvert_exporter": "python",
   "pygments_lexer": "ipython3",
   "version": "3.7.10"
  },
  "sos": {
   "kernels": [
    [
     "Bash",
     "calysto_bash",
     "Bash",
     "#E6EEFF",
     ""
    ],
    [
     "Python3",
     "python3",
     "Python3",
     "#FFD91A",
     ""
    ]
   ],
   "version": "0.22.3"
  }
 },
 "nbformat": 4,
 "nbformat_minor": 5
}
