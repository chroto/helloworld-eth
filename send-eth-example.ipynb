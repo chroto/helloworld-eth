{
 "cells": [
  {
   "cell_type": "code",
   "execution_count": 1,
   "id": "f239a21b-65b7-41d9-a9fc-1fe41641e9d4",
   "metadata": {
    "kernel": "Python3"
   },
   "outputs": [
    {
     "data": {
      "text/plain": [
       "True"
      ]
     },
     "execution_count": 1,
     "metadata": {},
     "output_type": "execute_result"
    }
   ],
   "source": [
    "from web3 import Web3\n",
    "\n",
    "w3 = Web3(Web3.HTTPProvider('http://127.0.0.1:28545'))\n",
    "w3.isConnected()"
   ]
  },
  {
   "cell_type": "code",
   "execution_count": 2,
   "id": "8325c8c8-dcfd-4f08-8b9e-468649034593",
   "metadata": {},
   "outputs": [],
   "source": [
    "import json\n",
    "with open('keys.json', 'r') as f:\n",
    "    keys = json.loads(f.read())"
   ]
  },
  {
   "cell_type": "code",
   "execution_count": 3,
   "id": "85914fe3-bc76-4669-b4e5-41e6e972602e",
   "metadata": {
    "kernel": "Python3"
   },
   "outputs": [
    {
     "name": "stdout",
     "output_type": "stream",
     "text": [
      "0x300879aDf36B12a0EbB9de52E15EB59F3fF1574B: 92994310376000000000\n",
      "0xf8C811F978bB623A8a37b6898b9A083b13Ef469E: 107000000000000000000\n",
      "0x34A1e32dAF41E057131E47d30a53F402D070DdFd: 100000000000000000000\n"
     ]
    }
   ],
   "source": [
    "for account in w3.eth.accounts:\n",
    "    balance = w3.eth.get_balance(account)\n",
    "    print(f'{account}: {balance}')"
   ]
  },
  {
   "cell_type": "code",
   "execution_count": 12,
   "id": "bceec328-0037-485b-bf1a-9d8009d03b54",
   "metadata": {
    "kernel": "Python3"
   },
   "outputs": [],
   "source": [
    "def sign_transaction(txn, account, private_key):\n",
    "    next_nounce = w3.eth.getTransactionCount(account)\n",
    "    \n",
    "    signable_transaction = dict(\n",
    "        txn,\n",
    "        nonce=next_nounce,\n",
    "        gasPrice=w3.toWei(4, 'gwei')\n",
    "    )\n",
    "    \n",
    "    signature_info = w3.eth.account.signTransaction(signable_transaction, private_key)\n",
    "    txn_hash = w3.eth.sendRawTransaction(signature_info.rawTransaction)\n",
    "    receipt = w3.eth.waitForTransactionReceipt(txn_hash)\n",
    "    return receipt\n"
   ]
  },
  {
   "cell_type": "code",
   "execution_count": 19,
   "id": "ebad8e93-31cd-4035-8aaa-70ed2a52bbab",
   "metadata": {
    "kernel": "Python3"
   },
   "outputs": [
    {
     "data": {
      "text/plain": [
       "AttributeDict({'number': 12,\n",
       " 'hash': HexBytes('0x4ec699d5a3b29ce4e8d4789a1d03f8694e0bb416da637fca46b55eeef21a1aa0'),\n",
       " 'parentHash': HexBytes('0x0e7a4ff354dc2cc027355938f094348193cbaa8595e8faed35fb7dd7ecb7ccd5'),\n",
       " 'mixHash': HexBytes('0x0000000000000000000000000000000000000000000000000000000000000000'),\n",
       " 'nonce': HexBytes('0x0000000000000000'),\n",
       " 'sha3Uncles': HexBytes('0x1dcc4de8dec75d7aab85b567b6ccd41ad312451b948a7413f0a142fd40d49347'),\n",
       " 'logsBloom': HexBytes('0x00000000000000000000000000000000000000000000000000000000000000000000000000000000000000000000000000000000000000000000000000000000000000000000000000000000000000000000000000000000000000000000000000000000000000000000000000000000000000000000000000000000000000000000000000000000000000000000000000000000000000000000000000000000000000000000000000000000000000000000000000000000000000000000000000000000000000000000000000000000000000000000000000000000000000000000000000000000000000000000000000000000000000000000000000000000'),\n",
       " 'transactionsRoot': HexBytes('0xc4e76ab1373c8516e909592c82209e768ff8be145c2a45531345446adc3d9885'),\n",
       " 'stateRoot': HexBytes('0xf0572689c601e76551b136a681acad2c63f0fe7753096c114c6a279e8511ec99'),\n",
       " 'receiptsRoot': HexBytes('0x056b23fbba480696b65fe5a59b8f2148a1299103c4f57df839233af2cf4ca2d2'),\n",
       " 'miner': '0x0000000000000000000000000000000000000000',\n",
       " 'difficulty': 0,\n",
       " 'totalDifficulty': 0,\n",
       " 'extraData': HexBytes('0x'),\n",
       " 'size': 1000,\n",
       " 'gasLimit': 6721975,\n",
       " 'gasUsed': 21000,\n",
       " 'timestamp': 1628471392,\n",
       " 'transactions': [HexBytes('0xb97e287acded0ca5f5e0805ff611c1b5adb76f8261a3688ca8428a7bb7193598')],\n",
       " 'uncles': []})"
      ]
     },
     "execution_count": 19,
     "metadata": {},
     "output_type": "execute_result"
    }
   ],
   "source": [
    "from_address = w3.eth.accounts[0]\n",
    "to_address = w3.eth.accounts[1]\n",
    "value = w3.toWei(1, \"ether\")\n",
    "\n",
    "transaction = {\n",
    "        'from': from_address,\n",
    "        'to': to_address,\n",
    "        'value': value,\n",
    "        'gas': 100000,\n",
    "        'chainId': 1337\n",
    "    }\n",
    "sign_transaction(transaction, from_address, keys['private_keys'][from_address.lower()])\n",
    "w3.eth.getBlock(\"latest\")\n"
   ]
  },
  {
   "cell_type": "code",
   "execution_count": 14,
   "id": "a5c4144e-4e53-4b61-b38b-6912ba9b975d",
   "metadata": {
    "kernel": "Python3"
   },
   "outputs": [
    {
     "name": "stdout",
     "output_type": "stream",
     "text": [
      "current balance: 91.994226376 ether\n"
     ]
    }
   ],
   "source": [
    "print(f\"current balance: {w3.fromWei(w3.eth.getBalance(from_address), 'ether')} ether\")\n"
   ]
  },
  {
   "cell_type": "code",
   "execution_count": 15,
   "id": "e6899a11-63fb-4426-9ac0-77767f4f3dea",
   "metadata": {
    "kernel": "Python3"
   },
   "outputs": [
    {
     "name": "stdout",
     "output_type": "stream",
     "text": [
      "current balance: 108 ether\n"
     ]
    }
   ],
   "source": [
    "print(f\"current balance: {w3.fromWei(w3.eth.getBalance(to_address), 'ether')} ether\")\n"
   ]
  },
  {
   "cell_type": "code",
   "execution_count": null,
   "id": "c63df604-5027-4e7c-9038-b9e04a8d6905",
   "metadata": {},
   "outputs": [],
   "source": []
  }
 ],
 "metadata": {
  "kernelspec": {
   "display_name": "Python 3",
   "language": "python",
   "name": "python3"
  },
  "language_info": {
   "codemirror_mode": {
    "name": "ipython",
    "version": 3
   },
   "file_extension": ".py",
   "mimetype": "text/x-python",
   "name": "python",
   "nbconvert_exporter": "python",
   "pygments_lexer": "ipython3",
   "version": "3.7.10"
  },
  "sos": {
   "kernels": [
    [
     "Bash",
     "calysto_bash",
     "Bash",
     "#E6EEFF",
     ""
    ],
    [
     "Python3",
     "python3",
     "Python3",
     "#FFD91A",
     ""
    ]
   ],
   "version": "0.22.3"
  }
 },
 "nbformat": 4,
 "nbformat_minor": 5
}
