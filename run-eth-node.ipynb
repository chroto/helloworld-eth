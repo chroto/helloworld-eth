{
 "cells": [
  {
   "cell_type": "code",
   "execution_count": null,
   "id": "59d64466-b7f0-44a9-a434-4965e36071dc",
   "metadata": {},
   "outputs": [],
   "source": [
    "ganache-cli --port 28545 --db chain --account_keys_path keys.json \\\n",
    "    --account \"0x2e49f655abcc565d3739e131fa030bd35b8a0e7dff48aa55f3eee10ba36c089b,0x056bc75e2d63100000\" \\\n",
    "    --account \"0xd9764bbc5b89295049475b607dc11ee34aa05ef98da1ef19de0ff8d7ff3f8681,0x056bc75e2d63100000\" \\\n",
    "    --account \"0x2c4a930fbcab6fda5207faf9307b507a6a7891312f1401e2e6e992171a7d13e4,0x056bc75e2d63100000\" \\\n",
    "    --account \"0x5886f713f6f6fa3cdda09f8a9c2ebea71446dbf658ad5a70b0d309fec6f51781,0x056bc75e2d63100000\"\n",
    "            "
   ]
  },
  {
   "cell_type": "code",
   "execution_count": null,
   "id": "5aad0be6-3103-4f30-9b41-fd851c10911c",
   "metadata": {},
   "outputs": [],
   "source": []
  }
 ],
 "metadata": {
  "kernelspec": {
   "display_name": "Calysto Bash",
   "language": "bash",
   "name": "calysto_bash"
  },
  "language_info": {
   "file_extension": ".sh",
   "help_links": [
    {
     "text": "MetaKernel Magics",
     "url": "https://metakernel.readthedocs.io/en/latest/source/README.html"
    }
   ],
   "mimetype": "text/x-sh",
   "name": "bash",
   "version": "0.2.2"
  }
 },
 "nbformat": 4,
 "nbformat_minor": 5
}
