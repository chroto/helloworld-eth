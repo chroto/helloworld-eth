{
 "cells": [
  {
   "cell_type": "code",
   "execution_count": null,
   "id": "59d64466-b7f0-44a9-a434-4965e36071dc",
   "metadata": {},
   "outputs": [],
   "source": [
    "ganache-cli --port 28545 --db chain --account_keys_path keys.json"
   ]
  },
  {
   "cell_type": "code",
   "execution_count": null,
   "id": "5aad0be6-3103-4f30-9b41-fd851c10911c",
   "metadata": {},
   "outputs": [],
   "source": []
  }
 ],
 "metadata": {
  "kernelspec": {
   "display_name": "Calysto Bash",
   "language": "bash",
   "name": "calysto_bash"
  },
  "language_info": {
   "file_extension": ".sh",
   "help_links": [
    {
     "text": "MetaKernel Magics",
     "url": "https://metakernel.readthedocs.io/en/latest/source/README.html"
    }
   ],
   "mimetype": "text/x-sh",
   "name": "bash",
   "version": "0.2.2"
  }
 },
 "nbformat": 4,
 "nbformat_minor": 5
}
