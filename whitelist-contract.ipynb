{
 "cells": [
  {
   "cell_type": "code",
   "execution_count": 1,
   "id": "3705239d-d511-4d3b-852a-4074c766f06e",
   "metadata": {},
   "outputs": [],
   "source": [
    "import json\n",
    "with open('contracts/WhiteList.compiled.json', 'r') as f:\n",
    "    WhiteListOutput = json.loads(f.read())"
   ]
  },
  {
   "cell_type": "code",
   "execution_count": 2,
   "id": "8cf83947-563e-4bb5-88be-bff219fedcae",
   "metadata": {},
   "outputs": [],
   "source": [
    "WhiteListAbi = WhiteListOutput['contracts']['WhiteList.sol:WhiteList']['abi'] \n",
    "WhiteListBin = WhiteListOutput['contracts']['WhiteList.sol:WhiteList']['bin']\n"
   ]
  },
  {
   "cell_type": "code",
   "execution_count": 3,
   "id": "f9570714-d928-4a28-bf93-fa7faffbda59",
   "metadata": {},
   "outputs": [
    {
     "data": {
      "text/plain": [
       "['0x300879aDf36B12a0EbB9de52E15EB59F3fF1574B',\n",
       " '0xf8C811F978bB623A8a37b6898b9A083b13Ef469E',\n",
       " '0x34A1e32dAF41E057131E47d30a53F402D070DdFd']"
      ]
     },
     "execution_count": 3,
     "metadata": {},
     "output_type": "execute_result"
    }
   ],
   "source": [
    "from web3 import Web3\n",
    "\n",
    "w3 = Web3(Web3.HTTPProvider('http://127.0.0.1:28545'))\n",
    "w3.isConnected()\n",
    "with open('keys.json', 'r') as f:\n",
    "    private_keys = json.loads(f.read())['private_keys']\n",
    "w3.eth.accounts"
   ]
  },
  {
   "cell_type": "code",
   "execution_count": 4,
   "id": "99a5e203-4ebc-49f4-bf4b-b4a07fe80abb",
   "metadata": {},
   "outputs": [],
   "source": [
    "def sign_transaction(txn, account, private_key):\n",
    "    next_nounce = w3.eth.getTransactionCount(account)\n",
    "    \n",
    "    signable_transaction = dict(\n",
    "    txn,\n",
    "    nonce=next_nounce,\n",
    "    gasPrice=w3.toWei(4, 'gwei'))\n",
    "    \n",
    "    signature_info = w3.eth.account.signTransaction(signable_transaction, private_key)\n",
    "    txn_hash = w3.eth.sendRawTransaction(signature_info.rawTransaction)\n",
    "    receipt = w3.eth.waitForTransactionReceipt(txn_hash)\n",
    "    return receipt"
   ]
  },
  {
   "cell_type": "code",
   "execution_count": 5,
   "id": "372ec80f-18ce-426c-866b-446296adc840",
   "metadata": {},
   "outputs": [
    {
     "name": "stdout",
     "output_type": "stream",
     "text": [
      "WhiteListAddress:             0xef00b26b8217f132cB19C3c38d4878fe1160D2D8    Deployed:True\n"
     ]
    }
   ],
   "source": [
    "from web3.contract import ConciseContract\n",
    "\n",
    "whitelist_deployer = w3.eth.contract(abi=WhiteListAbi, bytecode=WhiteListBin)\n",
    "init = whitelist_deployer.constructor()\n",
    "txn = init.buildTransaction({'gas': 1000000})\n",
    "receipt = sign_transaction(txn, w3.eth.accounts[0], private_keys[w3.eth.accounts[0].lower()])\n",
    "WhiteListAddress = receipt.contractAddress\n",
    "\n",
    "# Build ConciseContract artifact\n",
    "whitelist_contract = w3.eth.contract(\n",
    "    address=WhiteListAddress,\n",
    "    abi=WhiteListAbi,\n",
    ")\n",
    "whitelist_CContract = ConciseContract(whitelist_contract)\n",
    "print(\"WhiteListAddress:             \" + WhiteListAddress + \"    Deployed:\" + str(whitelist_CContract.isOwner()) )\n"
   ]
  },
  {
   "cell_type": "code",
   "execution_count": 6,
   "id": "bacc23e4-7ce8-4e3b-b3e6-8ee8d900a100",
   "metadata": {},
   "outputs": [
    {
     "data": {
      "text/plain": [
       "1"
      ]
     },
     "execution_count": 6,
     "metadata": {},
     "output_type": "execute_result"
    }
   ],
   "source": [
    "# Whitelist \n",
    "insert_list = [w3.eth.accounts[1], w3.eth.accounts[2]]\n",
    "\n",
    "# Submit txn\n",
    "txn = whitelist_contract.functions.add(insert_list).buildTransaction({'gas': 320000})\n",
    "receipt = sign_transaction(txn, w3.eth.accounts[0], private_keys[w3.eth.accounts[0].lower()])\n",
    "receipt.status"
   ]
  },
  {
   "cell_type": "code",
   "execution_count": 7,
   "id": "5273f5b9-9213-4e35-8651-d56e9a6e1593",
   "metadata": {},
   "outputs": [
    {
     "data": {
      "text/plain": [
       "True"
      ]
     },
     "execution_count": 7,
     "metadata": {},
     "output_type": "execute_result"
    }
   ],
   "source": [
    "# Using the standard web3 contract call \n",
    "dst_name = whitelist_contract.functions.isInWhiteList(w3.eth.accounts[1]).call()\n",
    "dst_name"
   ]
  },
  {
   "cell_type": "code",
   "execution_count": 8,
   "id": "94073b65-523b-470c-9aff-1a960d77772f",
   "metadata": {},
   "outputs": [
    {
     "data": {
      "text/plain": [
       "True"
      ]
     },
     "execution_count": 8,
     "metadata": {},
     "output_type": "execute_result"
    }
   ],
   "source": [
    "# Using the standard web3 contract call \n",
    "dst_name = whitelist_contract.functions.isInWhiteList(w3.eth.accounts[2]).call()\n",
    "dst_name"
   ]
  },
  {
   "cell_type": "code",
   "execution_count": 9,
   "id": "3f7c2d46-6b6e-437e-8189-ae7319f621a9",
   "metadata": {},
   "outputs": [
    {
     "data": {
      "text/plain": [
       "False"
      ]
     },
     "execution_count": 9,
     "metadata": {},
     "output_type": "execute_result"
    }
   ],
   "source": [
    "# Using the standard web3 contract call \n",
    "dst_name = whitelist_contract.functions.isInWhiteList(w3.eth.accounts[0]).call()\n",
    "dst_name"
   ]
  },
  {
   "cell_type": "code",
   "execution_count": null,
   "id": "4c1698e6-4b2b-4507-98cc-fe842e4a9613",
   "metadata": {},
   "outputs": [],
   "source": []
  }
 ],
 "metadata": {
  "kernelspec": {
   "display_name": "Python 3",
   "language": "python",
   "name": "python3"
  },
  "language_info": {
   "codemirror_mode": {
    "name": "ipython",
    "version": 3
   },
   "file_extension": ".py",
   "mimetype": "text/x-python",
   "name": "python",
   "nbconvert_exporter": "python",
   "pygments_lexer": "ipython3",
   "version": "3.7.10"
  }
 },
 "nbformat": 4,
 "nbformat_minor": 5
}
